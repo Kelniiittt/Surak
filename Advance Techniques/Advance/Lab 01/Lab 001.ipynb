{
  "nbformat": 4,
  "nbformat_minor": 0,
  "metadata": {
    "colab": {
      "provenance": []
    },
    "kernelspec": {
      "name": "python3",
      "display_name": "Python 3"
    },
    "language_info": {
      "name": "python"
    }
  },
  "cells": [
    {
      "cell_type": "code",
      "execution_count": 1,
      "metadata": {
        "id": "Aii41m4er2pA"
      },
      "outputs": [],
      "source": [
        "import tensorflow as tf\n",
        "\n",
        "from tensorflow.keras.models import Model, Sequential\n",
        "\n",
        "from tensorflow.keras.layers import Input, Flatten, Dense\n",
        "\n",
        "from tensorflow.keras.datasets import mnist\n",
        "\n",
        "import warnings\n",
        "\n",
        "warnings.filterwarnings(\"ignore\")"
      ]
    },
    {
      "cell_type": "code",
      "source": [
        "input_shape = (28, 28)\n",
        "\n",
        "model_satu = Sequential()\n",
        "\n",
        "model_satu.add(Flatten(input_shape=input_shape))\n",
        "\n",
        "model_satu.add(Dense(32, activation='relu'))\n",
        "\n",
        "model_satu.add(Dense(10, activation=\"softmax\"))"
      ],
      "metadata": {
        "id": "CPKpFe-JsdFi"
      },
      "execution_count": 2,
      "outputs": []
    },
    {
      "cell_type": "code",
      "source": [
        "input_layer = Input(shape=input_shape)\n",
        "\n",
        "x = Flatten()(input_layer)\n",
        "\n",
        "x = Dense(32, activation='relu')(x)\n",
        "\n",
        "output_layer = Dense(10, activation=\"softmax\")(x)\n",
        "\n",
        "model_dua = Model(inputs=input_layer, outputs=output_layer)"
      ],
      "metadata": {
        "id": "fpwjxH-DtL4K"
      },
      "execution_count": 3,
      "outputs": []
    },
    {
      "cell_type": "code",
      "source": [
        "class ModelTiga(Model):\n",
        "  def __init__(self):\n",
        "    super(ModelTiga, self).__init__()\n",
        "    self.flatten = Flatten()\n",
        "    self.layer = Dense(32, activation='relu')\n",
        "    self.final = Dense(10, activation=\"softmax\")\n",
        "\n",
        "  def call(self, inputs):\n",
        "    x = self.flatten(inputs)\n",
        "    x = self.layer(x)\n",
        "    return self.final(x)\n",
        "\n",
        "model_tiga = ModelTiga()"
      ],
      "metadata": {
        "id": "JwBGrKZctSUr"
      },
      "execution_count": 4,
      "outputs": []
    },
    {
      "cell_type": "code",
      "source": [
        "(train_image, train_label), (test_image, test_label) = mnist.load_data()\n",
        "\n",
        "rescale = lambda img : tf.cast(img, tf.float32) / 255.0\n",
        "\n",
        "train_image = rescale(train_image)\n",
        "\n",
        "test_image = rescale(test_image)"
      ],
      "metadata": {
        "id": "BH5L7bamuVDC"
      },
      "execution_count": 5,
      "outputs": []
    },
    {
      "cell_type": "code",
      "source": [
        "epochs = 1\n",
        "\n",
        "loss = \"sparse_categorical_crossentropy\"\n",
        "\n",
        "model_satu.compile(optimizer=\"adam\", loss=loss, metrics=[\"accuracy\"])\n",
        "\n",
        "hist = model_satu.fit(train_image, train_label, epochs=epochs, verbose=False)\n",
        "\n",
        "model_satu.evaluate(test_image, test_label, verbose=False)"
      ],
      "metadata": {
        "colab": {
          "base_uri": "https://localhost:8080/"
        },
        "id": "Cz5kFdrWtqmB",
        "outputId": "45c2745a-27d9-400e-d854-cba65d9a8f37"
      },
      "execution_count": 6,
      "outputs": [
        {
          "output_type": "execute_result",
          "data": {
            "text/plain": [
              "[0.21406754851341248, 0.9362000226974487]"
            ]
          },
          "metadata": {},
          "execution_count": 6
        }
      ]
    },
    {
      "cell_type": "code",
      "source": [
        "model_dua.compile(optimizer=\"adam\", loss=loss, metrics=[\"accuracy\"])\n",
        "\n",
        "hist = model_dua.fit(train_image, train_label, epochs=epochs, verbose=False)\n",
        "\n",
        "model_dua.evaluate(test_image, test_label, verbose=False)"
      ],
      "metadata": {
        "colab": {
          "base_uri": "https://localhost:8080/"
        },
        "id": "WHPzkk6XuLVD",
        "outputId": "d939d01b-a713-4353-fe0d-a04007c23673"
      },
      "execution_count": 7,
      "outputs": [
        {
          "output_type": "execute_result",
          "data": {
            "text/plain": [
              "[0.21353505551815033, 0.9370999932289124]"
            ]
          },
          "metadata": {},
          "execution_count": 7
        }
      ]
    },
    {
      "cell_type": "code",
      "source": [
        "model_tiga.compile(optimizer=\"adam\", loss=loss, metrics=[\"accuracy\"])\n",
        "\n",
        "hist = model_tiga.fit(train_image, train_label, epochs=epochs, verbose=False)\n",
        "\n",
        "model_tiga.evaluate(test_image, test_label, verbose=False)"
      ],
      "metadata": {
        "colab": {
          "base_uri": "https://localhost:8080/"
        },
        "id": "rgxAZcDluS9Y",
        "outputId": "fad58135-938c-4980-8862-b8188b903dd1"
      },
      "execution_count": 8,
      "outputs": [
        {
          "output_type": "execute_result",
          "data": {
            "text/plain": [
              "[0.21300941705703735, 0.9368000030517578]"
            ]
          },
          "metadata": {},
          "execution_count": 8
        }
      ]
    }
  ]
}