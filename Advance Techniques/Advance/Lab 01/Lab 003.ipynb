{
  "nbformat": 4,
  "nbformat_minor": 0,
  "metadata": {
    "colab": {
      "provenance": []
    },
    "kernelspec": {
      "name": "python3",
      "display_name": "Python 3"
    },
    "language_info": {
      "name": "python"
    }
  },
  "cells": [
    {
      "cell_type": "code",
      "execution_count": 1,
      "metadata": {
        "id": "mpe5lcbLvv4n"
      },
      "outputs": [],
      "source": [
        "import tensorflow as tf\n",
        "\n",
        "from tensorflow.keras import models, layers, optimizers, losses, datasets"
      ]
    },
    {
      "cell_type": "code",
      "source": [
        "import random, numpy as np\n",
        "\n",
        "def CreatePairs(img, digit_indices):\n",
        "  \"\"\"\n",
        "  Create Siamese Pairs\n",
        "  \"\"\"\n",
        "  image_pairs = []\n",
        "  image_label = []\n",
        "  total_class = min(len(digit_indices[i]) for i in range(10)) - 1\n",
        "\n",
        "  for i in range(10):\n",
        "    # Hi ?\n",
        "    for j in range(total_class):\n",
        "      # Hi ?\n",
        "      pair_one, pair_two = digit_indices[i][j], digit_indices[i][j + 1]\n",
        "      image_pairs += [[img[pair_one], img[pair_two]]]\n",
        "      inc = random.randrange(1, 10)\n",
        "      dn = (i + inc) % 10\n",
        "      # Hi ?\n",
        "      pair_one, pair_two = digit_indices[i][j], digit_indices[dn][j]\n",
        "      image_pairs += [[img[pair_one], img[pair_two]]]\n",
        "      image_label += [1, 0]\n",
        "\n",
        "  return np.array(image_pairs), np.array(image_label)\n",
        "\n",
        "def CreatePairsSet(images, labels):\n",
        "  \"\"\"\n",
        "  Create Siamese Pairs Set\n",
        "  \"\"\"\n",
        "  digit_indices = [np.where(labels == i)[0] for i in range(10)]\n",
        "  pairs, labels = CreatePairs(images, digit_indices)\n",
        "  labels = labels.astype('float32')\n",
        "  return pairs, labels"
      ],
      "metadata": {
        "id": "DD1w9AtAwJbz"
      },
      "execution_count": 4,
      "outputs": []
    },
    {
      "cell_type": "code",
      "source": [
        "(train_image, train_label), (test_image, test_label) = datasets.fashion_mnist.load_data()\n",
        "\n",
        "rescale = lambda img : tf.cast(img, tf.float32) / 255.0\n",
        "\n",
        "train_image = rescale(train_image)\n",
        "\n",
        "test_image = rescale(test_image)\n",
        "\n",
        "train_pairs, train_label = CreatePairsSet(train_image, train_label)\n",
        "\n",
        "test_pairs, test_label = CreatePairsSet(test_image, test_label)"
      ],
      "metadata": {
        "id": "Cx63u3qiy732"
      },
      "execution_count": 5,
      "outputs": []
    },
    {
      "cell_type": "code",
      "source": [
        "train_image.shape"
      ],
      "metadata": {
        "colab": {
          "base_uri": "https://localhost:8080/"
        },
        "id": "qSoaT5sq0QEo",
        "outputId": "aed191bf-21e6-4c91-e3e4-89f74912376e"
      },
      "execution_count": 6,
      "outputs": [
        {
          "output_type": "execute_result",
          "data": {
            "text/plain": [
              "TensorShape([60000, 28, 28])"
            ]
          },
          "metadata": {},
          "execution_count": 6
        }
      ]
    },
    {
      "cell_type": "code",
      "source": [
        "train_pairs.shape"
      ],
      "metadata": {
        "colab": {
          "base_uri": "https://localhost:8080/"
        },
        "id": "3lshNa4L0Rlf",
        "outputId": "bc5c3190-ca9d-4b80-954e-a7a9bb7eb710"
      },
      "execution_count": 7,
      "outputs": [
        {
          "output_type": "execute_result",
          "data": {
            "text/plain": [
              "(119980, 2, 28, 28)"
            ]
          },
          "metadata": {},
          "execution_count": 7
        }
      ]
    },
    {
      "cell_type": "code",
      "source": [
        "import matplotlib.pyplot as plt\n",
        "\n",
        "pairs = 8\n",
        "\n",
        "plt.figure(figsize=(10, 10))\n",
        "\n",
        "plt.imshow(train_pairs[pairs][0])\n",
        "\n",
        "plt.colorbar()\n",
        "\n",
        "plt.grid(False);"
      ],
      "metadata": {
        "id": "pDMLggql04WE"
      },
      "execution_count": null,
      "outputs": []
    },
    {
      "cell_type": "code",
      "source": [
        "plt.imshow(train_pairs[pairs][1])\n",
        "\n",
        "plt.colorbar()\n",
        "\n",
        "plt.grid(False);"
      ],
      "metadata": {
        "id": "VAitAw5x1JLp"
      },
      "execution_count": null,
      "outputs": []
    },
    {
      "cell_type": "code",
      "source": [
        "from tensorflow.keras import backend as K\n",
        "\n",
        "def SiameseModel():\n",
        "  \"\"\"\n",
        "  Create Siamese Model\n",
        "  \"\"\"\n",
        "  input = layers.Input((28, 28))\n",
        "\n",
        "  x = layers.Flatten()(input)\n",
        "  x = layers.Dense(128, activation='relu')(x)\n",
        "\n",
        "  x = layers.Dropout(0.1)(x)\n",
        "  x = layers.Dense(128, activation='relu')(x)\n",
        "\n",
        "  x = layers.Dropout(0.1)(x)\n",
        "  final = layers.Dense(128, activation='relu')(x)\n",
        "\n",
        "  return models.Model(inputs=input, outputs=final)\n",
        "\n",
        "def EucliDistance(vectors):\n",
        "  \"\"\"\n",
        "  Calculate Euclidean Distance\n",
        "  \"\"\"\n",
        "  i, j = vectors\n",
        "\n",
        "  sum_square = K.sum(K.square(i - j), axis=1, keepdims=True)\n",
        "\n",
        "  return K.sqrt(K.maximum(sum_square, K.epsilon()))\n",
        "\n",
        "def EucliDistanceOutputShape(shapes):\n",
        "  \"\"\"\n",
        "  Calculate Euclidean Distance Output Shape\n",
        "  \"\"\"\n",
        "  shape1, shape2 = shapes\n",
        "\n",
        "  return (shape1[0], 1)"
      ],
      "metadata": {
        "id": "pRBg-p4G13RH"
      },
      "execution_count": 10,
      "outputs": []
    },
    {
      "cell_type": "code",
      "source": [
        "base_model = SiameseModel()"
      ],
      "metadata": {
        "id": "eonBtDg42h_l"
      },
      "execution_count": null,
      "outputs": []
    },
    {
      "cell_type": "code",
      "source": [
        "input_i = layers.Input((28, 28))\n",
        "\n",
        "input_j = layers.Input((28, 28))\n",
        "\n",
        "output_i = base_model(input_i)\n",
        "\n",
        "output_j = base_model(input_j)"
      ],
      "metadata": {
        "id": "yPkeAQ1D2sG2"
      },
      "execution_count": 12,
      "outputs": []
    },
    {
      "cell_type": "code",
      "source": [
        "output_distance = layers.Lambda(EucliDistance, output_shape=EucliDistanceOutputShape)([output_i, output_j])\n",
        "\n",
        "model = models.Model([input_i, input_j], output_distance)\n",
        "\n",
        "model.summary()"
      ],
      "metadata": {
        "id": "VANZwvh520ia"
      },
      "execution_count": null,
      "outputs": []
    },
    {
      "cell_type": "code",
      "source": [
        "def ConstrativeMarginLoss(margin):\n",
        "  def ConstrativeLoss(y_true, y_pred):\n",
        "    square_pred = K.square(y_pred)\n",
        "    margin_square = K.square(K.maximum(margin - y_pred, 0))\n",
        "    return (y_true * square_pred + (1 - y_true) * margin_square)\n",
        "  return ConstrativeLoss\n",
        "\n",
        "optimizer = optimizers.RMSprop()\n",
        "\n",
        "model.compile(loss=ConstrativeMarginLoss(margin=1), optimizer=optimizer)\n",
        "\n",
        "train_input = [train_pairs[:, 0], train_pairs[:, 1]]\n",
        "\n",
        "test_input = [test_pairs[:, 0], test_pairs[:, 1]]\n",
        "\n",
        "hist = model.fit(train_input, train_label, epochs=20, batch_size=128, validation_data=(test_input, test_label))"
      ],
      "metadata": {
        "id": "-Jee6E712-pc"
      },
      "execution_count": null,
      "outputs": []
    }
  ]
}